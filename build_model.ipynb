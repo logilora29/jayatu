{
 "cells": [
  {
   "cell_type": "markdown",
   "metadata": {},
   "source": [
    "# BUILDING THE TRAINED MODEL"
   ]
  },
  {
   "cell_type": "markdown",
   "metadata": {},
   "source": [
    "DATA PREPROCESSING"
   ]
  },
  {
   "cell_type": "code",
   "execution_count": 1,
   "metadata": {},
   "outputs": [],
   "source": [
    "import pandas as pd"
   ]
  },
  {
   "cell_type": "code",
   "execution_count": 2,
   "metadata": {},
   "outputs": [],
   "source": [
    "dataset = pd.read_csv('../dataset/train_dataset.csv', index_col = 0)"
   ]
  },
  {
   "cell_type": "code",
   "execution_count": 3,
   "metadata": {},
   "outputs": [
    {
     "data": {
      "text/html": [
       "<div>\n",
       "<style scoped>\n",
       "    .dataframe tbody tr th:only-of-type {\n",
       "        vertical-align: middle;\n",
       "    }\n",
       "\n",
       "    .dataframe tbody tr th {\n",
       "        vertical-align: top;\n",
       "    }\n",
       "\n",
       "    .dataframe thead th {\n",
       "        text-align: right;\n",
       "    }\n",
       "</style>\n",
       "<table border=\"1\" class=\"dataframe\">\n",
       "  <thead>\n",
       "    <tr style=\"text-align: right;\">\n",
       "      <th></th>\n",
       "      <th>trans_hour</th>\n",
       "      <th>trans_day</th>\n",
       "      <th>trans_month</th>\n",
       "      <th>trans_year</th>\n",
       "      <th>category</th>\n",
       "      <th>insurance_number</th>\n",
       "      <th>age</th>\n",
       "      <th>claim_amount</th>\n",
       "      <th>state</th>\n",
       "      <th>zip</th>\n",
       "      <th>fraud_risk</th>\n",
       "    </tr>\n",
       "    <tr>\n",
       "      <th>Id</th>\n",
       "      <th></th>\n",
       "      <th></th>\n",
       "      <th></th>\n",
       "      <th></th>\n",
       "      <th></th>\n",
       "      <th></th>\n",
       "      <th></th>\n",
       "      <th></th>\n",
       "      <th></th>\n",
       "      <th></th>\n",
       "      <th></th>\n",
       "    </tr>\n",
       "  </thead>\n",
       "  <tbody>\n",
       "    <tr>\n",
       "      <th>0</th>\n",
       "      <td>0</td>\n",
       "      <td>1</td>\n",
       "      <td>1</td>\n",
       "      <td>2022</td>\n",
       "      <td>12</td>\n",
       "      <td>6.300000e+11</td>\n",
       "      <td>54</td>\n",
       "      <td>66.21</td>\n",
       "      <td>22</td>\n",
       "      <td>49879</td>\n",
       "      <td>0</td>\n",
       "    </tr>\n",
       "    <tr>\n",
       "      <th>1</th>\n",
       "      <td>1</td>\n",
       "      <td>1</td>\n",
       "      <td>1</td>\n",
       "      <td>2022</td>\n",
       "      <td>3</td>\n",
       "      <td>3.540000e+15</td>\n",
       "      <td>15</td>\n",
       "      <td>55.81</td>\n",
       "      <td>14</td>\n",
       "      <td>62668</td>\n",
       "      <td>0</td>\n",
       "    </tr>\n",
       "    <tr>\n",
       "      <th>2</th>\n",
       "      <td>3</td>\n",
       "      <td>1</td>\n",
       "      <td>1</td>\n",
       "      <td>2022</td>\n",
       "      <td>8</td>\n",
       "      <td>5.020000e+11</td>\n",
       "      <td>60</td>\n",
       "      <td>8.68</td>\n",
       "      <td>4</td>\n",
       "      <td>96037</td>\n",
       "      <td>0</td>\n",
       "    </tr>\n",
       "    <tr>\n",
       "      <th>3</th>\n",
       "      <td>6</td>\n",
       "      <td>1</td>\n",
       "      <td>1</td>\n",
       "      <td>2022</td>\n",
       "      <td>4</td>\n",
       "      <td>3.530000e+15</td>\n",
       "      <td>44</td>\n",
       "      <td>89.52</td>\n",
       "      <td>40</td>\n",
       "      <td>29911</td>\n",
       "      <td>0</td>\n",
       "    </tr>\n",
       "    <tr>\n",
       "      <th>4</th>\n",
       "      <td>6</td>\n",
       "      <td>1</td>\n",
       "      <td>1</td>\n",
       "      <td>2022</td>\n",
       "      <td>0</td>\n",
       "      <td>2.350000e+15</td>\n",
       "      <td>72</td>\n",
       "      <td>1.90</td>\n",
       "      <td>38</td>\n",
       "      <td>16421</td>\n",
       "      <td>0</td>\n",
       "    </tr>\n",
       "  </tbody>\n",
       "</table>\n",
       "</div>"
      ],
      "text/plain": [
       "    trans_hour  trans_day  trans_month  trans_year  category   \n",
       "Id                                                             \n",
       "0            0          1            1        2022        12  \\\n",
       "1            1          1            1        2022         3   \n",
       "2            3          1            1        2022         8   \n",
       "3            6          1            1        2022         4   \n",
       "4            6          1            1        2022         0   \n",
       "\n",
       "    insurance_number  age  claim_amount  state    zip  fraud_risk  \n",
       "Id                                                                 \n",
       "0       6.300000e+11   54         66.21     22  49879           0  \n",
       "1       3.540000e+15   15         55.81     14  62668           0  \n",
       "2       5.020000e+11   60          8.68      4  96037           0  \n",
       "3       3.530000e+15   44         89.52     40  29911           0  \n",
       "4       2.350000e+15   72          1.90     38  16421           0  "
      ]
     },
     "execution_count": 3,
     "metadata": {},
     "output_type": "execute_result"
    }
   ],
   "source": [
    "dataset.head()"
   ]
  },
  {
   "cell_type": "code",
   "execution_count": 4,
   "metadata": {},
   "outputs": [],
   "source": [
    "import numpy as np"
   ]
  },
  {
   "cell_type": "code",
   "execution_count": 5,
   "metadata": {},
   "outputs": [],
   "source": [
    "x = dataset.iloc[ : , : 10].values\n",
    "y = dataset.iloc[ : , 10].values"
   ]
  },
  {
   "cell_type": "code",
   "execution_count": 6,
   "metadata": {},
   "outputs": [],
   "source": [
    "from sklearn.model_selection import train_test_split"
   ]
  },
  {
   "cell_type": "code",
   "execution_count": 7,
   "metadata": {},
   "outputs": [],
   "source": [
    "x_train, x_test, y_train, y_test = train_test_split(x, y, test_size = 0.15, random_state = 0)"
   ]
  },
  {
   "cell_type": "code",
   "execution_count": 8,
   "metadata": {},
   "outputs": [
    {
     "data": {
      "text/plain": [
       "(10210, 10)"
      ]
     },
     "execution_count": 8,
     "metadata": {},
     "output_type": "execute_result"
    }
   ],
   "source": [
    "x_train.shape"
   ]
  },
  {
   "cell_type": "code",
   "execution_count": 9,
   "metadata": {},
   "outputs": [
    {
     "data": {
      "text/plain": [
       "(1802, 10)"
      ]
     },
     "execution_count": 9,
     "metadata": {},
     "output_type": "execute_result"
    }
   ],
   "source": [
    "x_test.shape"
   ]
  },
  {
   "cell_type": "code",
   "execution_count": 10,
   "metadata": {},
   "outputs": [],
   "source": [
    "fraud = np.count_nonzero(y_train == 1)\n",
    "valid = np.count_nonzero(y_train == 0)"
   ]
  },
  {
   "cell_type": "code",
   "execution_count": 11,
   "metadata": {
    "scrolled": true
   },
   "outputs": [
    {
     "name": "stdout",
     "output_type": "stream",
     "text": [
      "Fraud cases in training data = 5106\n",
      "Valid cases in training data = 5104\n"
     ]
    }
   ],
   "source": [
    "print('Fraud cases in training data =', fraud)\n",
    "print('Valid cases in training data =', valid)"
   ]
  },
  {
   "cell_type": "code",
   "execution_count": 12,
   "metadata": {},
   "outputs": [],
   "source": [
    "from sklearn.preprocessing import StandardScaler\n",
    "scaler = StandardScaler()"
   ]
  },
  {
   "cell_type": "code",
   "execution_count": 13,
   "metadata": {},
   "outputs": [],
   "source": [
    "x_train = scaler.fit_transform(x_train)\n",
    "x_test = scaler.transform(x_test)"
   ]
  },
  {
   "cell_type": "code",
   "execution_count": 14,
   "metadata": {
    "scrolled": true
   },
   "outputs": [
    {
     "data": {
      "text/plain": [
       "array([[ 0.66337259,  1.24104545,  0.45653094,  0.37826057,  0.83408097,\n",
       "        -0.30554032,  2.3966382 , -0.73068363,  0.0181697 , -0.77660466],\n",
       "       [-1.6023747 , -0.07304053, -0.90455674,  0.37826057, -1.22335066,\n",
       "        -0.30836573,  0.74498916, -0.74861649,  0.64443135,  0.93890762],\n",
       "       [-1.12537527,  0.1459738 ,  0.45653094,  0.37826057,  0.57690202,\n",
       "        -0.30362247,  1.18542891, -0.79511806,  0.78360061, -1.2179066 ],\n",
       "       [-1.6023747 , -0.29205486, -0.36012167,  0.37826057, -0.70899275,\n",
       "        -0.30397763,  1.46070375, -0.51118115, -1.58227676,  1.76478537],\n",
       "       [-0.7676257 , -0.29205486, -1.44899181,  0.37826057, -0.70899275,\n",
       "        -0.30836532, -0.08083536,  0.02559291,  0.78360061, -1.18526965]])"
      ]
     },
     "execution_count": 14,
     "metadata": {},
     "output_type": "execute_result"
    }
   ],
   "source": [
    "x_train[ : 5]"
   ]
  },
  {
   "cell_type": "code",
   "execution_count": 15,
   "metadata": {},
   "outputs": [
    {
     "data": {
      "text/plain": [
       "array([[ 1.02112216, -0.51106919,  1.27318354,  0.37826057,  1.34843888,\n",
       "         3.15638262,  0.35960438,  1.60624238,  0.64443135,  0.91726066],\n",
       "       [-0.05212655,  0.58400246,  0.1843134 ,  0.37826057,  0.83408097,\n",
       "        -0.30822372, -0.08083536, -0.65192446,  0.29650821, -1.52769864],\n",
       "       [ 1.14037202,  1.56956694,  0.72874847,  0.37826057,  1.09125992,\n",
       "        -0.30560345,  1.29553884,  1.71351642,  1.13152375,  1.07356281],\n",
       "       [ 1.02112216, -0.73008352,  0.1843134 ,  0.37826057,  1.09125992,\n",
       "        -0.30500363,  1.51575871,  1.6205402 ,  0.15733896,  0.77172649],\n",
       "       [-1.6023747 , -0.07304053, -0.08790413,  0.37826057,  1.34843888,\n",
       "        -0.30819767,  0.80004413, -0.06571388, -0.60809196,  0.84854544]])"
      ]
     },
     "execution_count": 15,
     "metadata": {},
     "output_type": "execute_result"
    }
   ],
   "source": [
    "x_test[ : 5]"
   ]
  },
  {
   "cell_type": "markdown",
   "metadata": {},
   "source": [
    "LOGISTIC REGRESSION (LR)"
   ]
  },
  {
   "cell_type": "code",
   "execution_count": 16,
   "metadata": {},
   "outputs": [
    {
     "data": {
      "text/html": [
       "<style>#sk-container-id-1 {color: black;background-color: white;}#sk-container-id-1 pre{padding: 0;}#sk-container-id-1 div.sk-toggleable {background-color: white;}#sk-container-id-1 label.sk-toggleable__label {cursor: pointer;display: block;width: 100%;margin-bottom: 0;padding: 0.3em;box-sizing: border-box;text-align: center;}#sk-container-id-1 label.sk-toggleable__label-arrow:before {content: \"▸\";float: left;margin-right: 0.25em;color: #696969;}#sk-container-id-1 label.sk-toggleable__label-arrow:hover:before {color: black;}#sk-container-id-1 div.sk-estimator:hover label.sk-toggleable__label-arrow:before {color: black;}#sk-container-id-1 div.sk-toggleable__content {max-height: 0;max-width: 0;overflow: hidden;text-align: left;background-color: #f0f8ff;}#sk-container-id-1 div.sk-toggleable__content pre {margin: 0.2em;color: black;border-radius: 0.25em;background-color: #f0f8ff;}#sk-container-id-1 input.sk-toggleable__control:checked~div.sk-toggleable__content {max-height: 200px;max-width: 100%;overflow: auto;}#sk-container-id-1 input.sk-toggleable__control:checked~label.sk-toggleable__label-arrow:before {content: \"▾\";}#sk-container-id-1 div.sk-estimator input.sk-toggleable__control:checked~label.sk-toggleable__label {background-color: #d4ebff;}#sk-container-id-1 div.sk-label input.sk-toggleable__control:checked~label.sk-toggleable__label {background-color: #d4ebff;}#sk-container-id-1 input.sk-hidden--visually {border: 0;clip: rect(1px 1px 1px 1px);clip: rect(1px, 1px, 1px, 1px);height: 1px;margin: -1px;overflow: hidden;padding: 0;position: absolute;width: 1px;}#sk-container-id-1 div.sk-estimator {font-family: monospace;background-color: #f0f8ff;border: 1px dotted black;border-radius: 0.25em;box-sizing: border-box;margin-bottom: 0.5em;}#sk-container-id-1 div.sk-estimator:hover {background-color: #d4ebff;}#sk-container-id-1 div.sk-parallel-item::after {content: \"\";width: 100%;border-bottom: 1px solid gray;flex-grow: 1;}#sk-container-id-1 div.sk-label:hover label.sk-toggleable__label {background-color: #d4ebff;}#sk-container-id-1 div.sk-serial::before {content: \"\";position: absolute;border-left: 1px solid gray;box-sizing: border-box;top: 0;bottom: 0;left: 50%;z-index: 0;}#sk-container-id-1 div.sk-serial {display: flex;flex-direction: column;align-items: center;background-color: white;padding-right: 0.2em;padding-left: 0.2em;position: relative;}#sk-container-id-1 div.sk-item {position: relative;z-index: 1;}#sk-container-id-1 div.sk-parallel {display: flex;align-items: stretch;justify-content: center;background-color: white;position: relative;}#sk-container-id-1 div.sk-item::before, #sk-container-id-1 div.sk-parallel-item::before {content: \"\";position: absolute;border-left: 1px solid gray;box-sizing: border-box;top: 0;bottom: 0;left: 50%;z-index: -1;}#sk-container-id-1 div.sk-parallel-item {display: flex;flex-direction: column;z-index: 1;position: relative;background-color: white;}#sk-container-id-1 div.sk-parallel-item:first-child::after {align-self: flex-end;width: 50%;}#sk-container-id-1 div.sk-parallel-item:last-child::after {align-self: flex-start;width: 50%;}#sk-container-id-1 div.sk-parallel-item:only-child::after {width: 0;}#sk-container-id-1 div.sk-dashed-wrapped {border: 1px dashed gray;margin: 0 0.4em 0.5em 0.4em;box-sizing: border-box;padding-bottom: 0.4em;background-color: white;}#sk-container-id-1 div.sk-label label {font-family: monospace;font-weight: bold;display: inline-block;line-height: 1.2em;}#sk-container-id-1 div.sk-label-container {text-align: center;}#sk-container-id-1 div.sk-container {/* jupyter's `normalize.less` sets `[hidden] { display: none; }` but bootstrap.min.css set `[hidden] { display: none !important; }` so we also need the `!important` here to be able to override the default hidden behavior on the sphinx rendered scikit-learn.org. See: https://github.com/scikit-learn/scikit-learn/issues/21755 */display: inline-block !important;position: relative;}#sk-container-id-1 div.sk-text-repr-fallback {display: none;}</style><div id=\"sk-container-id-1\" class=\"sk-top-container\"><div class=\"sk-text-repr-fallback\"><pre>LogisticRegression(random_state=0)</pre><b>In a Jupyter environment, please rerun this cell to show the HTML representation or trust the notebook. <br />On GitHub, the HTML representation is unable to render, please try loading this page with nbviewer.org.</b></div><div class=\"sk-container\" hidden><div class=\"sk-item\"><div class=\"sk-estimator sk-toggleable\"><input class=\"sk-toggleable__control sk-hidden--visually\" id=\"sk-estimator-id-1\" type=\"checkbox\" checked><label for=\"sk-estimator-id-1\" class=\"sk-toggleable__label sk-toggleable__label-arrow\">LogisticRegression</label><div class=\"sk-toggleable__content\"><pre>LogisticRegression(random_state=0)</pre></div></div></div></div></div>"
      ],
      "text/plain": [
       "LogisticRegression(random_state=0)"
      ]
     },
     "execution_count": 16,
     "metadata": {},
     "output_type": "execute_result"
    }
   ],
   "source": [
    "from sklearn.linear_model import LogisticRegression\n",
    "LR_model = LogisticRegression(random_state = 0)\n",
    "LR_model.fit(x_train, y_train)"
   ]
  },
  {
   "cell_type": "code",
   "execution_count": 17,
   "metadata": {},
   "outputs": [],
   "source": [
    "y_pred = LR_model.predict(x_test)"
   ]
  },
  {
   "cell_type": "code",
   "execution_count": 18,
   "metadata": {},
   "outputs": [],
   "source": [
    "from sklearn.metrics import accuracy_score"
   ]
  },
  {
   "cell_type": "code",
   "execution_count": 19,
   "metadata": {},
   "outputs": [],
   "source": [
    "acc_lr = accuracy_score(y_test, y_pred)"
   ]
  },
  {
   "cell_type": "code",
   "execution_count": 20,
   "metadata": {},
   "outputs": [
    {
     "name": "stdout",
     "output_type": "stream",
     "text": [
      "0.8485016648168702\n"
     ]
    }
   ],
   "source": [
    "print(acc_lr)"
   ]
  },
  {
   "cell_type": "markdown",
   "metadata": {},
   "source": [
    "K-NEAREST NEIGHBORS (KNN)"
   ]
  },
  {
   "cell_type": "code",
   "execution_count": 21,
   "metadata": {},
   "outputs": [
    {
     "data": {
      "text/html": [
       "<style>#sk-container-id-2 {color: black;background-color: white;}#sk-container-id-2 pre{padding: 0;}#sk-container-id-2 div.sk-toggleable {background-color: white;}#sk-container-id-2 label.sk-toggleable__label {cursor: pointer;display: block;width: 100%;margin-bottom: 0;padding: 0.3em;box-sizing: border-box;text-align: center;}#sk-container-id-2 label.sk-toggleable__label-arrow:before {content: \"▸\";float: left;margin-right: 0.25em;color: #696969;}#sk-container-id-2 label.sk-toggleable__label-arrow:hover:before {color: black;}#sk-container-id-2 div.sk-estimator:hover label.sk-toggleable__label-arrow:before {color: black;}#sk-container-id-2 div.sk-toggleable__content {max-height: 0;max-width: 0;overflow: hidden;text-align: left;background-color: #f0f8ff;}#sk-container-id-2 div.sk-toggleable__content pre {margin: 0.2em;color: black;border-radius: 0.25em;background-color: #f0f8ff;}#sk-container-id-2 input.sk-toggleable__control:checked~div.sk-toggleable__content {max-height: 200px;max-width: 100%;overflow: auto;}#sk-container-id-2 input.sk-toggleable__control:checked~label.sk-toggleable__label-arrow:before {content: \"▾\";}#sk-container-id-2 div.sk-estimator input.sk-toggleable__control:checked~label.sk-toggleable__label {background-color: #d4ebff;}#sk-container-id-2 div.sk-label input.sk-toggleable__control:checked~label.sk-toggleable__label {background-color: #d4ebff;}#sk-container-id-2 input.sk-hidden--visually {border: 0;clip: rect(1px 1px 1px 1px);clip: rect(1px, 1px, 1px, 1px);height: 1px;margin: -1px;overflow: hidden;padding: 0;position: absolute;width: 1px;}#sk-container-id-2 div.sk-estimator {font-family: monospace;background-color: #f0f8ff;border: 1px dotted black;border-radius: 0.25em;box-sizing: border-box;margin-bottom: 0.5em;}#sk-container-id-2 div.sk-estimator:hover {background-color: #d4ebff;}#sk-container-id-2 div.sk-parallel-item::after {content: \"\";width: 100%;border-bottom: 1px solid gray;flex-grow: 1;}#sk-container-id-2 div.sk-label:hover label.sk-toggleable__label {background-color: #d4ebff;}#sk-container-id-2 div.sk-serial::before {content: \"\";position: absolute;border-left: 1px solid gray;box-sizing: border-box;top: 0;bottom: 0;left: 50%;z-index: 0;}#sk-container-id-2 div.sk-serial {display: flex;flex-direction: column;align-items: center;background-color: white;padding-right: 0.2em;padding-left: 0.2em;position: relative;}#sk-container-id-2 div.sk-item {position: relative;z-index: 1;}#sk-container-id-2 div.sk-parallel {display: flex;align-items: stretch;justify-content: center;background-color: white;position: relative;}#sk-container-id-2 div.sk-item::before, #sk-container-id-2 div.sk-parallel-item::before {content: \"\";position: absolute;border-left: 1px solid gray;box-sizing: border-box;top: 0;bottom: 0;left: 50%;z-index: -1;}#sk-container-id-2 div.sk-parallel-item {display: flex;flex-direction: column;z-index: 1;position: relative;background-color: white;}#sk-container-id-2 div.sk-parallel-item:first-child::after {align-self: flex-end;width: 50%;}#sk-container-id-2 div.sk-parallel-item:last-child::after {align-self: flex-start;width: 50%;}#sk-container-id-2 div.sk-parallel-item:only-child::after {width: 0;}#sk-container-id-2 div.sk-dashed-wrapped {border: 1px dashed gray;margin: 0 0.4em 0.5em 0.4em;box-sizing: border-box;padding-bottom: 0.4em;background-color: white;}#sk-container-id-2 div.sk-label label {font-family: monospace;font-weight: bold;display: inline-block;line-height: 1.2em;}#sk-container-id-2 div.sk-label-container {text-align: center;}#sk-container-id-2 div.sk-container {/* jupyter's `normalize.less` sets `[hidden] { display: none; }` but bootstrap.min.css set `[hidden] { display: none !important; }` so we also need the `!important` here to be able to override the default hidden behavior on the sphinx rendered scikit-learn.org. See: https://github.com/scikit-learn/scikit-learn/issues/21755 */display: inline-block !important;position: relative;}#sk-container-id-2 div.sk-text-repr-fallback {display: none;}</style><div id=\"sk-container-id-2\" class=\"sk-top-container\"><div class=\"sk-text-repr-fallback\"><pre>KNeighborsClassifier()</pre><b>In a Jupyter environment, please rerun this cell to show the HTML representation or trust the notebook. <br />On GitHub, the HTML representation is unable to render, please try loading this page with nbviewer.org.</b></div><div class=\"sk-container\" hidden><div class=\"sk-item\"><div class=\"sk-estimator sk-toggleable\"><input class=\"sk-toggleable__control sk-hidden--visually\" id=\"sk-estimator-id-2\" type=\"checkbox\" checked><label for=\"sk-estimator-id-2\" class=\"sk-toggleable__label sk-toggleable__label-arrow\">KNeighborsClassifier</label><div class=\"sk-toggleable__content\"><pre>KNeighborsClassifier()</pre></div></div></div></div></div>"
      ],
      "text/plain": [
       "KNeighborsClassifier()"
      ]
     },
     "execution_count": 21,
     "metadata": {},
     "output_type": "execute_result"
    }
   ],
   "source": [
    "from sklearn.neighbors import KNeighborsClassifier\n",
    "KNN_model = KNeighborsClassifier(n_neighbors = 5, metric = 'minkowski', p = 2)\n",
    "KNN_model.fit(x_train, y_train)"
   ]
  },
  {
   "cell_type": "code",
   "execution_count": 22,
   "metadata": {},
   "outputs": [],
   "source": [
    "y_pred = KNN_model.predict(x_test)"
   ]
  },
  {
   "cell_type": "code",
   "execution_count": 23,
   "metadata": {},
   "outputs": [],
   "source": [
    "acc_knn = accuracy_score(y_test, y_pred)"
   ]
  },
  {
   "cell_type": "code",
   "execution_count": 24,
   "metadata": {},
   "outputs": [
    {
     "name": "stdout",
     "output_type": "stream",
     "text": [
      "0.8657047724750278\n"
     ]
    }
   ],
   "source": [
    "print(acc_knn)"
   ]
  },
  {
   "cell_type": "markdown",
   "metadata": {},
   "source": [
    "SUPPORT VECTOR MACHINE (SVM)"
   ]
  },
  {
   "cell_type": "code",
   "execution_count": 25,
   "metadata": {},
   "outputs": [
    {
     "data": {
      "text/html": [
       "<style>#sk-container-id-3 {color: black;background-color: white;}#sk-container-id-3 pre{padding: 0;}#sk-container-id-3 div.sk-toggleable {background-color: white;}#sk-container-id-3 label.sk-toggleable__label {cursor: pointer;display: block;width: 100%;margin-bottom: 0;padding: 0.3em;box-sizing: border-box;text-align: center;}#sk-container-id-3 label.sk-toggleable__label-arrow:before {content: \"▸\";float: left;margin-right: 0.25em;color: #696969;}#sk-container-id-3 label.sk-toggleable__label-arrow:hover:before {color: black;}#sk-container-id-3 div.sk-estimator:hover label.sk-toggleable__label-arrow:before {color: black;}#sk-container-id-3 div.sk-toggleable__content {max-height: 0;max-width: 0;overflow: hidden;text-align: left;background-color: #f0f8ff;}#sk-container-id-3 div.sk-toggleable__content pre {margin: 0.2em;color: black;border-radius: 0.25em;background-color: #f0f8ff;}#sk-container-id-3 input.sk-toggleable__control:checked~div.sk-toggleable__content {max-height: 200px;max-width: 100%;overflow: auto;}#sk-container-id-3 input.sk-toggleable__control:checked~label.sk-toggleable__label-arrow:before {content: \"▾\";}#sk-container-id-3 div.sk-estimator input.sk-toggleable__control:checked~label.sk-toggleable__label {background-color: #d4ebff;}#sk-container-id-3 div.sk-label input.sk-toggleable__control:checked~label.sk-toggleable__label {background-color: #d4ebff;}#sk-container-id-3 input.sk-hidden--visually {border: 0;clip: rect(1px 1px 1px 1px);clip: rect(1px, 1px, 1px, 1px);height: 1px;margin: -1px;overflow: hidden;padding: 0;position: absolute;width: 1px;}#sk-container-id-3 div.sk-estimator {font-family: monospace;background-color: #f0f8ff;border: 1px dotted black;border-radius: 0.25em;box-sizing: border-box;margin-bottom: 0.5em;}#sk-container-id-3 div.sk-estimator:hover {background-color: #d4ebff;}#sk-container-id-3 div.sk-parallel-item::after {content: \"\";width: 100%;border-bottom: 1px solid gray;flex-grow: 1;}#sk-container-id-3 div.sk-label:hover label.sk-toggleable__label {background-color: #d4ebff;}#sk-container-id-3 div.sk-serial::before {content: \"\";position: absolute;border-left: 1px solid gray;box-sizing: border-box;top: 0;bottom: 0;left: 50%;z-index: 0;}#sk-container-id-3 div.sk-serial {display: flex;flex-direction: column;align-items: center;background-color: white;padding-right: 0.2em;padding-left: 0.2em;position: relative;}#sk-container-id-3 div.sk-item {position: relative;z-index: 1;}#sk-container-id-3 div.sk-parallel {display: flex;align-items: stretch;justify-content: center;background-color: white;position: relative;}#sk-container-id-3 div.sk-item::before, #sk-container-id-3 div.sk-parallel-item::before {content: \"\";position: absolute;border-left: 1px solid gray;box-sizing: border-box;top: 0;bottom: 0;left: 50%;z-index: -1;}#sk-container-id-3 div.sk-parallel-item {display: flex;flex-direction: column;z-index: 1;position: relative;background-color: white;}#sk-container-id-3 div.sk-parallel-item:first-child::after {align-self: flex-end;width: 50%;}#sk-container-id-3 div.sk-parallel-item:last-child::after {align-self: flex-start;width: 50%;}#sk-container-id-3 div.sk-parallel-item:only-child::after {width: 0;}#sk-container-id-3 div.sk-dashed-wrapped {border: 1px dashed gray;margin: 0 0.4em 0.5em 0.4em;box-sizing: border-box;padding-bottom: 0.4em;background-color: white;}#sk-container-id-3 div.sk-label label {font-family: monospace;font-weight: bold;display: inline-block;line-height: 1.2em;}#sk-container-id-3 div.sk-label-container {text-align: center;}#sk-container-id-3 div.sk-container {/* jupyter's `normalize.less` sets `[hidden] { display: none; }` but bootstrap.min.css set `[hidden] { display: none !important; }` so we also need the `!important` here to be able to override the default hidden behavior on the sphinx rendered scikit-learn.org. See: https://github.com/scikit-learn/scikit-learn/issues/21755 */display: inline-block !important;position: relative;}#sk-container-id-3 div.sk-text-repr-fallback {display: none;}</style><div id=\"sk-container-id-3\" class=\"sk-top-container\"><div class=\"sk-text-repr-fallback\"><pre>SVC(kernel=&#x27;linear&#x27;, random_state=0)</pre><b>In a Jupyter environment, please rerun this cell to show the HTML representation or trust the notebook. <br />On GitHub, the HTML representation is unable to render, please try loading this page with nbviewer.org.</b></div><div class=\"sk-container\" hidden><div class=\"sk-item\"><div class=\"sk-estimator sk-toggleable\"><input class=\"sk-toggleable__control sk-hidden--visually\" id=\"sk-estimator-id-3\" type=\"checkbox\" checked><label for=\"sk-estimator-id-3\" class=\"sk-toggleable__label sk-toggleable__label-arrow\">SVC</label><div class=\"sk-toggleable__content\"><pre>SVC(kernel=&#x27;linear&#x27;, random_state=0)</pre></div></div></div></div></div>"
      ],
      "text/plain": [
       "SVC(kernel='linear', random_state=0)"
      ]
     },
     "execution_count": 25,
     "metadata": {},
     "output_type": "execute_result"
    }
   ],
   "source": [
    "from sklearn.svm import SVC\n",
    "SVM_model = SVC(kernel = 'linear', random_state = 0)\n",
    "SVM_model.fit(x_train, y_train)"
   ]
  },
  {
   "cell_type": "code",
   "execution_count": 26,
   "metadata": {},
   "outputs": [],
   "source": [
    "y_pred = SVM_model.predict(x_test)"
   ]
  },
  {
   "cell_type": "code",
   "execution_count": 27,
   "metadata": {
    "scrolled": false
   },
   "outputs": [],
   "source": [
    "acc_svm = accuracy_score(y_test, y_pred)"
   ]
  },
  {
   "cell_type": "code",
   "execution_count": 28,
   "metadata": {},
   "outputs": [
    {
     "name": "stdout",
     "output_type": "stream",
     "text": [
      "0.8479467258601554\n"
     ]
    }
   ],
   "source": [
    "print(acc_svm)"
   ]
  },
  {
   "cell_type": "markdown",
   "metadata": {},
   "source": [
    "NAIVE BAYES (NB)"
   ]
  },
  {
   "cell_type": "code",
   "execution_count": 29,
   "metadata": {},
   "outputs": [
    {
     "data": {
      "text/html": [
       "<style>#sk-container-id-4 {color: black;background-color: white;}#sk-container-id-4 pre{padding: 0;}#sk-container-id-4 div.sk-toggleable {background-color: white;}#sk-container-id-4 label.sk-toggleable__label {cursor: pointer;display: block;width: 100%;margin-bottom: 0;padding: 0.3em;box-sizing: border-box;text-align: center;}#sk-container-id-4 label.sk-toggleable__label-arrow:before {content: \"▸\";float: left;margin-right: 0.25em;color: #696969;}#sk-container-id-4 label.sk-toggleable__label-arrow:hover:before {color: black;}#sk-container-id-4 div.sk-estimator:hover label.sk-toggleable__label-arrow:before {color: black;}#sk-container-id-4 div.sk-toggleable__content {max-height: 0;max-width: 0;overflow: hidden;text-align: left;background-color: #f0f8ff;}#sk-container-id-4 div.sk-toggleable__content pre {margin: 0.2em;color: black;border-radius: 0.25em;background-color: #f0f8ff;}#sk-container-id-4 input.sk-toggleable__control:checked~div.sk-toggleable__content {max-height: 200px;max-width: 100%;overflow: auto;}#sk-container-id-4 input.sk-toggleable__control:checked~label.sk-toggleable__label-arrow:before {content: \"▾\";}#sk-container-id-4 div.sk-estimator input.sk-toggleable__control:checked~label.sk-toggleable__label {background-color: #d4ebff;}#sk-container-id-4 div.sk-label input.sk-toggleable__control:checked~label.sk-toggleable__label {background-color: #d4ebff;}#sk-container-id-4 input.sk-hidden--visually {border: 0;clip: rect(1px 1px 1px 1px);clip: rect(1px, 1px, 1px, 1px);height: 1px;margin: -1px;overflow: hidden;padding: 0;position: absolute;width: 1px;}#sk-container-id-4 div.sk-estimator {font-family: monospace;background-color: #f0f8ff;border: 1px dotted black;border-radius: 0.25em;box-sizing: border-box;margin-bottom: 0.5em;}#sk-container-id-4 div.sk-estimator:hover {background-color: #d4ebff;}#sk-container-id-4 div.sk-parallel-item::after {content: \"\";width: 100%;border-bottom: 1px solid gray;flex-grow: 1;}#sk-container-id-4 div.sk-label:hover label.sk-toggleable__label {background-color: #d4ebff;}#sk-container-id-4 div.sk-serial::before {content: \"\";position: absolute;border-left: 1px solid gray;box-sizing: border-box;top: 0;bottom: 0;left: 50%;z-index: 0;}#sk-container-id-4 div.sk-serial {display: flex;flex-direction: column;align-items: center;background-color: white;padding-right: 0.2em;padding-left: 0.2em;position: relative;}#sk-container-id-4 div.sk-item {position: relative;z-index: 1;}#sk-container-id-4 div.sk-parallel {display: flex;align-items: stretch;justify-content: center;background-color: white;position: relative;}#sk-container-id-4 div.sk-item::before, #sk-container-id-4 div.sk-parallel-item::before {content: \"\";position: absolute;border-left: 1px solid gray;box-sizing: border-box;top: 0;bottom: 0;left: 50%;z-index: -1;}#sk-container-id-4 div.sk-parallel-item {display: flex;flex-direction: column;z-index: 1;position: relative;background-color: white;}#sk-container-id-4 div.sk-parallel-item:first-child::after {align-self: flex-end;width: 50%;}#sk-container-id-4 div.sk-parallel-item:last-child::after {align-self: flex-start;width: 50%;}#sk-container-id-4 div.sk-parallel-item:only-child::after {width: 0;}#sk-container-id-4 div.sk-dashed-wrapped {border: 1px dashed gray;margin: 0 0.4em 0.5em 0.4em;box-sizing: border-box;padding-bottom: 0.4em;background-color: white;}#sk-container-id-4 div.sk-label label {font-family: monospace;font-weight: bold;display: inline-block;line-height: 1.2em;}#sk-container-id-4 div.sk-label-container {text-align: center;}#sk-container-id-4 div.sk-container {/* jupyter's `normalize.less` sets `[hidden] { display: none; }` but bootstrap.min.css set `[hidden] { display: none !important; }` so we also need the `!important` here to be able to override the default hidden behavior on the sphinx rendered scikit-learn.org. See: https://github.com/scikit-learn/scikit-learn/issues/21755 */display: inline-block !important;position: relative;}#sk-container-id-4 div.sk-text-repr-fallback {display: none;}</style><div id=\"sk-container-id-4\" class=\"sk-top-container\"><div class=\"sk-text-repr-fallback\"><pre>GaussianNB()</pre><b>In a Jupyter environment, please rerun this cell to show the HTML representation or trust the notebook. <br />On GitHub, the HTML representation is unable to render, please try loading this page with nbviewer.org.</b></div><div class=\"sk-container\" hidden><div class=\"sk-item\"><div class=\"sk-estimator sk-toggleable\"><input class=\"sk-toggleable__control sk-hidden--visually\" id=\"sk-estimator-id-4\" type=\"checkbox\" checked><label for=\"sk-estimator-id-4\" class=\"sk-toggleable__label sk-toggleable__label-arrow\">GaussianNB</label><div class=\"sk-toggleable__content\"><pre>GaussianNB()</pre></div></div></div></div></div>"
      ],
      "text/plain": [
       "GaussianNB()"
      ]
     },
     "execution_count": 29,
     "metadata": {},
     "output_type": "execute_result"
    }
   ],
   "source": [
    "from sklearn.naive_bayes import GaussianNB\n",
    "NB_model = GaussianNB()\n",
    "NB_model.fit(x_train, y_train)"
   ]
  },
  {
   "cell_type": "code",
   "execution_count": 30,
   "metadata": {},
   "outputs": [],
   "source": [
    "y_pred = NB_model.predict(x_test)"
   ]
  },
  {
   "cell_type": "code",
   "execution_count": 31,
   "metadata": {},
   "outputs": [],
   "source": [
    "acc_nb = accuracy_score(y_test, y_pred)"
   ]
  },
  {
   "cell_type": "code",
   "execution_count": 32,
   "metadata": {},
   "outputs": [
    {
     "name": "stdout",
     "output_type": "stream",
     "text": [
      "0.8496115427302997\n"
     ]
    }
   ],
   "source": [
    "print(acc_nb)"
   ]
  },
  {
   "cell_type": "markdown",
   "metadata": {},
   "source": [
    "DECISION TREE (DT)"
   ]
  },
  {
   "cell_type": "code",
   "execution_count": 33,
   "metadata": {},
   "outputs": [
    {
     "data": {
      "text/html": [
       "<style>#sk-container-id-5 {color: black;background-color: white;}#sk-container-id-5 pre{padding: 0;}#sk-container-id-5 div.sk-toggleable {background-color: white;}#sk-container-id-5 label.sk-toggleable__label {cursor: pointer;display: block;width: 100%;margin-bottom: 0;padding: 0.3em;box-sizing: border-box;text-align: center;}#sk-container-id-5 label.sk-toggleable__label-arrow:before {content: \"▸\";float: left;margin-right: 0.25em;color: #696969;}#sk-container-id-5 label.sk-toggleable__label-arrow:hover:before {color: black;}#sk-container-id-5 div.sk-estimator:hover label.sk-toggleable__label-arrow:before {color: black;}#sk-container-id-5 div.sk-toggleable__content {max-height: 0;max-width: 0;overflow: hidden;text-align: left;background-color: #f0f8ff;}#sk-container-id-5 div.sk-toggleable__content pre {margin: 0.2em;color: black;border-radius: 0.25em;background-color: #f0f8ff;}#sk-container-id-5 input.sk-toggleable__control:checked~div.sk-toggleable__content {max-height: 200px;max-width: 100%;overflow: auto;}#sk-container-id-5 input.sk-toggleable__control:checked~label.sk-toggleable__label-arrow:before {content: \"▾\";}#sk-container-id-5 div.sk-estimator input.sk-toggleable__control:checked~label.sk-toggleable__label {background-color: #d4ebff;}#sk-container-id-5 div.sk-label input.sk-toggleable__control:checked~label.sk-toggleable__label {background-color: #d4ebff;}#sk-container-id-5 input.sk-hidden--visually {border: 0;clip: rect(1px 1px 1px 1px);clip: rect(1px, 1px, 1px, 1px);height: 1px;margin: -1px;overflow: hidden;padding: 0;position: absolute;width: 1px;}#sk-container-id-5 div.sk-estimator {font-family: monospace;background-color: #f0f8ff;border: 1px dotted black;border-radius: 0.25em;box-sizing: border-box;margin-bottom: 0.5em;}#sk-container-id-5 div.sk-estimator:hover {background-color: #d4ebff;}#sk-container-id-5 div.sk-parallel-item::after {content: \"\";width: 100%;border-bottom: 1px solid gray;flex-grow: 1;}#sk-container-id-5 div.sk-label:hover label.sk-toggleable__label {background-color: #d4ebff;}#sk-container-id-5 div.sk-serial::before {content: \"\";position: absolute;border-left: 1px solid gray;box-sizing: border-box;top: 0;bottom: 0;left: 50%;z-index: 0;}#sk-container-id-5 div.sk-serial {display: flex;flex-direction: column;align-items: center;background-color: white;padding-right: 0.2em;padding-left: 0.2em;position: relative;}#sk-container-id-5 div.sk-item {position: relative;z-index: 1;}#sk-container-id-5 div.sk-parallel {display: flex;align-items: stretch;justify-content: center;background-color: white;position: relative;}#sk-container-id-5 div.sk-item::before, #sk-container-id-5 div.sk-parallel-item::before {content: \"\";position: absolute;border-left: 1px solid gray;box-sizing: border-box;top: 0;bottom: 0;left: 50%;z-index: -1;}#sk-container-id-5 div.sk-parallel-item {display: flex;flex-direction: column;z-index: 1;position: relative;background-color: white;}#sk-container-id-5 div.sk-parallel-item:first-child::after {align-self: flex-end;width: 50%;}#sk-container-id-5 div.sk-parallel-item:last-child::after {align-self: flex-start;width: 50%;}#sk-container-id-5 div.sk-parallel-item:only-child::after {width: 0;}#sk-container-id-5 div.sk-dashed-wrapped {border: 1px dashed gray;margin: 0 0.4em 0.5em 0.4em;box-sizing: border-box;padding-bottom: 0.4em;background-color: white;}#sk-container-id-5 div.sk-label label {font-family: monospace;font-weight: bold;display: inline-block;line-height: 1.2em;}#sk-container-id-5 div.sk-label-container {text-align: center;}#sk-container-id-5 div.sk-container {/* jupyter's `normalize.less` sets `[hidden] { display: none; }` but bootstrap.min.css set `[hidden] { display: none !important; }` so we also need the `!important` here to be able to override the default hidden behavior on the sphinx rendered scikit-learn.org. See: https://github.com/scikit-learn/scikit-learn/issues/21755 */display: inline-block !important;position: relative;}#sk-container-id-5 div.sk-text-repr-fallback {display: none;}</style><div id=\"sk-container-id-5\" class=\"sk-top-container\"><div class=\"sk-text-repr-fallback\"><pre>DecisionTreeClassifier(criterion=&#x27;entropy&#x27;, random_state=0)</pre><b>In a Jupyter environment, please rerun this cell to show the HTML representation or trust the notebook. <br />On GitHub, the HTML representation is unable to render, please try loading this page with nbviewer.org.</b></div><div class=\"sk-container\" hidden><div class=\"sk-item\"><div class=\"sk-estimator sk-toggleable\"><input class=\"sk-toggleable__control sk-hidden--visually\" id=\"sk-estimator-id-5\" type=\"checkbox\" checked><label for=\"sk-estimator-id-5\" class=\"sk-toggleable__label sk-toggleable__label-arrow\">DecisionTreeClassifier</label><div class=\"sk-toggleable__content\"><pre>DecisionTreeClassifier(criterion=&#x27;entropy&#x27;, random_state=0)</pre></div></div></div></div></div>"
      ],
      "text/plain": [
       "DecisionTreeClassifier(criterion='entropy', random_state=0)"
      ]
     },
     "execution_count": 33,
     "metadata": {},
     "output_type": "execute_result"
    }
   ],
   "source": [
    "from sklearn.tree import DecisionTreeClassifier\n",
    "DT_model = DecisionTreeClassifier(criterion = 'entropy', random_state = 0)\n",
    "DT_model.fit(x_train, y_train)"
   ]
  },
  {
   "cell_type": "code",
   "execution_count": 34,
   "metadata": {},
   "outputs": [],
   "source": [
    "y_pred = DT_model.predict(x_test)"
   ]
  },
  {
   "cell_type": "code",
   "execution_count": 35,
   "metadata": {},
   "outputs": [],
   "source": [
    "acc_dt = accuracy_score(y_test, y_pred)"
   ]
  },
  {
   "cell_type": "code",
   "execution_count": 36,
   "metadata": {},
   "outputs": [
    {
     "name": "stdout",
     "output_type": "stream",
     "text": [
      "0.967258601553829\n"
     ]
    }
   ],
   "source": [
    "print(acc_dt)"
   ]
  },
  {
   "cell_type": "markdown",
   "metadata": {},
   "source": [
    "RANDOM FOREST (RF)"
   ]
  },
  {
   "cell_type": "code",
   "execution_count": 37,
   "metadata": {},
   "outputs": [
    {
     "data": {
      "text/html": [
       "<style>#sk-container-id-6 {color: black;background-color: white;}#sk-container-id-6 pre{padding: 0;}#sk-container-id-6 div.sk-toggleable {background-color: white;}#sk-container-id-6 label.sk-toggleable__label {cursor: pointer;display: block;width: 100%;margin-bottom: 0;padding: 0.3em;box-sizing: border-box;text-align: center;}#sk-container-id-6 label.sk-toggleable__label-arrow:before {content: \"▸\";float: left;margin-right: 0.25em;color: #696969;}#sk-container-id-6 label.sk-toggleable__label-arrow:hover:before {color: black;}#sk-container-id-6 div.sk-estimator:hover label.sk-toggleable__label-arrow:before {color: black;}#sk-container-id-6 div.sk-toggleable__content {max-height: 0;max-width: 0;overflow: hidden;text-align: left;background-color: #f0f8ff;}#sk-container-id-6 div.sk-toggleable__content pre {margin: 0.2em;color: black;border-radius: 0.25em;background-color: #f0f8ff;}#sk-container-id-6 input.sk-toggleable__control:checked~div.sk-toggleable__content {max-height: 200px;max-width: 100%;overflow: auto;}#sk-container-id-6 input.sk-toggleable__control:checked~label.sk-toggleable__label-arrow:before {content: \"▾\";}#sk-container-id-6 div.sk-estimator input.sk-toggleable__control:checked~label.sk-toggleable__label {background-color: #d4ebff;}#sk-container-id-6 div.sk-label input.sk-toggleable__control:checked~label.sk-toggleable__label {background-color: #d4ebff;}#sk-container-id-6 input.sk-hidden--visually {border: 0;clip: rect(1px 1px 1px 1px);clip: rect(1px, 1px, 1px, 1px);height: 1px;margin: -1px;overflow: hidden;padding: 0;position: absolute;width: 1px;}#sk-container-id-6 div.sk-estimator {font-family: monospace;background-color: #f0f8ff;border: 1px dotted black;border-radius: 0.25em;box-sizing: border-box;margin-bottom: 0.5em;}#sk-container-id-6 div.sk-estimator:hover {background-color: #d4ebff;}#sk-container-id-6 div.sk-parallel-item::after {content: \"\";width: 100%;border-bottom: 1px solid gray;flex-grow: 1;}#sk-container-id-6 div.sk-label:hover label.sk-toggleable__label {background-color: #d4ebff;}#sk-container-id-6 div.sk-serial::before {content: \"\";position: absolute;border-left: 1px solid gray;box-sizing: border-box;top: 0;bottom: 0;left: 50%;z-index: 0;}#sk-container-id-6 div.sk-serial {display: flex;flex-direction: column;align-items: center;background-color: white;padding-right: 0.2em;padding-left: 0.2em;position: relative;}#sk-container-id-6 div.sk-item {position: relative;z-index: 1;}#sk-container-id-6 div.sk-parallel {display: flex;align-items: stretch;justify-content: center;background-color: white;position: relative;}#sk-container-id-6 div.sk-item::before, #sk-container-id-6 div.sk-parallel-item::before {content: \"\";position: absolute;border-left: 1px solid gray;box-sizing: border-box;top: 0;bottom: 0;left: 50%;z-index: -1;}#sk-container-id-6 div.sk-parallel-item {display: flex;flex-direction: column;z-index: 1;position: relative;background-color: white;}#sk-container-id-6 div.sk-parallel-item:first-child::after {align-self: flex-end;width: 50%;}#sk-container-id-6 div.sk-parallel-item:last-child::after {align-self: flex-start;width: 50%;}#sk-container-id-6 div.sk-parallel-item:only-child::after {width: 0;}#sk-container-id-6 div.sk-dashed-wrapped {border: 1px dashed gray;margin: 0 0.4em 0.5em 0.4em;box-sizing: border-box;padding-bottom: 0.4em;background-color: white;}#sk-container-id-6 div.sk-label label {font-family: monospace;font-weight: bold;display: inline-block;line-height: 1.2em;}#sk-container-id-6 div.sk-label-container {text-align: center;}#sk-container-id-6 div.sk-container {/* jupyter's `normalize.less` sets `[hidden] { display: none; }` but bootstrap.min.css set `[hidden] { display: none !important; }` so we also need the `!important` here to be able to override the default hidden behavior on the sphinx rendered scikit-learn.org. See: https://github.com/scikit-learn/scikit-learn/issues/21755 */display: inline-block !important;position: relative;}#sk-container-id-6 div.sk-text-repr-fallback {display: none;}</style><div id=\"sk-container-id-6\" class=\"sk-top-container\"><div class=\"sk-text-repr-fallback\"><pre>RandomForestClassifier()</pre><b>In a Jupyter environment, please rerun this cell to show the HTML representation or trust the notebook. <br />On GitHub, the HTML representation is unable to render, please try loading this page with nbviewer.org.</b></div><div class=\"sk-container\" hidden><div class=\"sk-item\"><div class=\"sk-estimator sk-toggleable\"><input class=\"sk-toggleable__control sk-hidden--visually\" id=\"sk-estimator-id-6\" type=\"checkbox\" checked><label for=\"sk-estimator-id-6\" class=\"sk-toggleable__label sk-toggleable__label-arrow\">RandomForestClassifier</label><div class=\"sk-toggleable__content\"><pre>RandomForestClassifier()</pre></div></div></div></div></div>"
      ],
      "text/plain": [
       "RandomForestClassifier()"
      ]
     },
     "execution_count": 37,
     "metadata": {},
     "output_type": "execute_result"
    }
   ],
   "source": [
    "from sklearn.ensemble import RandomForestClassifier\n",
    "RF_model = RandomForestClassifier()\n",
    "RF_model.fit(x_train, y_train)"
   ]
  },
  {
   "cell_type": "code",
   "execution_count": 38,
   "metadata": {},
   "outputs": [],
   "source": [
    "y_pred = RF_model.predict(x_test)"
   ]
  },
  {
   "cell_type": "code",
   "execution_count": 39,
   "metadata": {},
   "outputs": [],
   "source": [
    "acc_rf = accuracy_score(y_test, y_pred)"
   ]
  },
  {
   "cell_type": "code",
   "execution_count": 40,
   "metadata": {},
   "outputs": [
    {
     "name": "stdout",
     "output_type": "stream",
     "text": [
      "0.9705882352941176\n"
     ]
    }
   ],
   "source": [
    "print(acc_rf)"
   ]
  },
  {
   "cell_type": "markdown",
   "metadata": {},
   "source": [
    "CONVOLUTIONAL NEURAL NETWORK (CNN)"
   ]
  },
  {
   "cell_type": "code",
   "execution_count": 41,
   "metadata": {},
   "outputs": [],
   "source": [
    "import tensorflow as tf"
   ]
  },
  {
   "cell_type": "code",
   "execution_count": 42,
   "metadata": {},
   "outputs": [],
   "source": [
    "CNN_model = tf.keras.models.Sequential()"
   ]
  },
  {
   "cell_type": "code",
   "execution_count": 43,
   "metadata": {},
   "outputs": [],
   "source": [
    "CNN_model.add(tf.keras.layers.Dense(64, input_dim = 10, activation = 'relu'))\n",
    "CNN_model.add(tf.keras.layers.Dense(128, activation = 'relu'))\n",
    "CNN_model.add(tf.keras.layers.Dense(1, activation = 'sigmoid'))"
   ]
  },
  {
   "cell_type": "code",
   "execution_count": 44,
   "metadata": {},
   "outputs": [],
   "source": [
    "CNN_model.compile(optimizer = 'adam', loss = 'binary_crossentropy', metrics = ['accuracy'])"
   ]
  },
  {
   "cell_type": "code",
   "execution_count": 45,
   "metadata": {
    "scrolled": true
   },
   "outputs": [
    {
     "name": "stdout",
     "output_type": "stream",
     "text": [
      "Epoch 1/200\n",
      "320/320 [==============================] - 2s 2ms/step - loss: 0.3918 - accuracy: 0.8348\n",
      "Epoch 2/200\n",
      "320/320 [==============================] - 1s 2ms/step - loss: 0.3163 - accuracy: 0.8554\n",
      "Epoch 3/200\n",
      "320/320 [==============================] - 1s 2ms/step - loss: 0.3072 - accuracy: 0.8573\n",
      "Epoch 4/200\n",
      "320/320 [==============================] - 1s 2ms/step - loss: 0.2976 - accuracy: 0.8593\n",
      "Epoch 5/200\n",
      "320/320 [==============================] - 1s 2ms/step - loss: 0.2927 - accuracy: 0.8621\n",
      "Epoch 6/200\n",
      "320/320 [==============================] - 1s 2ms/step - loss: 0.2868 - accuracy: 0.8684\n",
      "Epoch 7/200\n",
      "320/320 [==============================] - 1s 2ms/step - loss: 0.2811 - accuracy: 0.8735\n",
      "Epoch 8/200\n",
      "320/320 [==============================] - 1s 2ms/step - loss: 0.2727 - accuracy: 0.8755\n",
      "Epoch 9/200\n",
      "320/320 [==============================] - 1s 2ms/step - loss: 0.2651 - accuracy: 0.8819\n",
      "Epoch 10/200\n",
      "320/320 [==============================] - 1s 2ms/step - loss: 0.2553 - accuracy: 0.8883\n",
      "Epoch 11/200\n",
      "320/320 [==============================] - 1s 2ms/step - loss: 0.2464 - accuracy: 0.8960\n",
      "Epoch 12/200\n",
      "320/320 [==============================] - 1s 2ms/step - loss: 0.2367 - accuracy: 0.9035\n",
      "Epoch 13/200\n",
      "320/320 [==============================] - 1s 2ms/step - loss: 0.2256 - accuracy: 0.9120\n",
      "Epoch 14/200\n",
      "320/320 [==============================] - 1s 2ms/step - loss: 0.2165 - accuracy: 0.9130\n",
      "Epoch 15/200\n",
      "320/320 [==============================] - 1s 2ms/step - loss: 0.2089 - accuracy: 0.9176\n",
      "Epoch 16/200\n",
      "320/320 [==============================] - 1s 2ms/step - loss: 0.2012 - accuracy: 0.9223\n",
      "Epoch 17/200\n",
      "320/320 [==============================] - 1s 2ms/step - loss: 0.1953 - accuracy: 0.9216\n",
      "Epoch 18/200\n",
      "320/320 [==============================] - 1s 2ms/step - loss: 0.1861 - accuracy: 0.9293\n",
      "Epoch 19/200\n",
      "320/320 [==============================] - 1s 2ms/step - loss: 0.1807 - accuracy: 0.9320\n",
      "Epoch 20/200\n",
      "320/320 [==============================] - 1s 2ms/step - loss: 0.1763 - accuracy: 0.9313\n",
      "Epoch 21/200\n",
      "320/320 [==============================] - 1s 3ms/step - loss: 0.1694 - accuracy: 0.9365\n",
      "Epoch 22/200\n",
      "320/320 [==============================] - 1s 2ms/step - loss: 0.1655 - accuracy: 0.9371\n",
      "Epoch 23/200\n",
      "320/320 [==============================] - 1s 3ms/step - loss: 0.1633 - accuracy: 0.9365\n",
      "Epoch 24/200\n",
      "320/320 [==============================] - 1s 2ms/step - loss: 0.1563 - accuracy: 0.9400\n",
      "Epoch 25/200\n",
      "320/320 [==============================] - 1s 2ms/step - loss: 0.1561 - accuracy: 0.9397\n",
      "Epoch 26/200\n",
      "320/320 [==============================] - 1s 2ms/step - loss: 0.1501 - accuracy: 0.9415\n",
      "Epoch 27/200\n",
      "320/320 [==============================] - 1s 2ms/step - loss: 0.1457 - accuracy: 0.9437\n",
      "Epoch 28/200\n",
      "320/320 [==============================] - 1s 2ms/step - loss: 0.1479 - accuracy: 0.9432\n",
      "Epoch 29/200\n",
      "320/320 [==============================] - 1s 2ms/step - loss: 0.1424 - accuracy: 0.9434\n",
      "Epoch 30/200\n",
      "320/320 [==============================] - 1s 2ms/step - loss: 0.1393 - accuracy: 0.9440\n",
      "Epoch 31/200\n",
      "320/320 [==============================] - 1s 2ms/step - loss: 0.1357 - accuracy: 0.9470\n",
      "Epoch 32/200\n",
      "320/320 [==============================] - 1s 2ms/step - loss: 0.1336 - accuracy: 0.9491\n",
      "Epoch 33/200\n",
      "320/320 [==============================] - 1s 2ms/step - loss: 0.1323 - accuracy: 0.9485\n",
      "Epoch 34/200\n",
      "320/320 [==============================] - 1s 2ms/step - loss: 0.1308 - accuracy: 0.9485\n",
      "Epoch 35/200\n",
      "320/320 [==============================] - 1s 2ms/step - loss: 0.1280 - accuracy: 0.9504\n",
      "Epoch 36/200\n",
      "320/320 [==============================] - 1s 2ms/step - loss: 0.1286 - accuracy: 0.9494\n",
      "Epoch 37/200\n",
      "320/320 [==============================] - 1s 2ms/step - loss: 0.1265 - accuracy: 0.9503\n",
      "Epoch 38/200\n",
      "320/320 [==============================] - 1s 2ms/step - loss: 0.1229 - accuracy: 0.9532\n",
      "Epoch 39/200\n",
      "320/320 [==============================] - 1s 2ms/step - loss: 0.1211 - accuracy: 0.9519\n",
      "Epoch 40/200\n",
      "320/320 [==============================] - 1s 2ms/step - loss: 0.1206 - accuracy: 0.9532\n",
      "Epoch 41/200\n",
      "320/320 [==============================] - 1s 2ms/step - loss: 0.1183 - accuracy: 0.9530\n",
      "Epoch 42/200\n",
      "320/320 [==============================] - 1s 2ms/step - loss: 0.1153 - accuracy: 0.9548\n",
      "Epoch 43/200\n",
      "320/320 [==============================] - 1s 2ms/step - loss: 0.1156 - accuracy: 0.9539\n",
      "Epoch 44/200\n",
      "320/320 [==============================] - 1s 2ms/step - loss: 0.1125 - accuracy: 0.9553\n",
      "Epoch 45/200\n",
      "320/320 [==============================] - 1s 2ms/step - loss: 0.1110 - accuracy: 0.9570\n",
      "Epoch 46/200\n",
      "320/320 [==============================] - 1s 2ms/step - loss: 0.1090 - accuracy: 0.9588\n",
      "Epoch 47/200\n",
      "320/320 [==============================] - 1s 2ms/step - loss: 0.1095 - accuracy: 0.9564\n",
      "Epoch 48/200\n",
      "320/320 [==============================] - 1s 2ms/step - loss: 0.1117 - accuracy: 0.9556\n",
      "Epoch 49/200\n",
      "320/320 [==============================] - 1s 2ms/step - loss: 0.1085 - accuracy: 0.9581\n",
      "Epoch 50/200\n",
      "320/320 [==============================] - 1s 3ms/step - loss: 0.1055 - accuracy: 0.9573\n",
      "Epoch 51/200\n",
      "320/320 [==============================] - 1s 3ms/step - loss: 0.1042 - accuracy: 0.9595\n",
      "Epoch 52/200\n",
      "320/320 [==============================] - 1s 3ms/step - loss: 0.1035 - accuracy: 0.9597\n",
      "Epoch 53/200\n",
      "320/320 [==============================] - 1s 3ms/step - loss: 0.1016 - accuracy: 0.9608\n",
      "Epoch 54/200\n",
      "320/320 [==============================] - 1s 3ms/step - loss: 0.0997 - accuracy: 0.9597\n",
      "Epoch 55/200\n",
      "320/320 [==============================] - 1s 3ms/step - loss: 0.1017 - accuracy: 0.9582\n",
      "Epoch 56/200\n",
      "320/320 [==============================] - 1s 3ms/step - loss: 0.1000 - accuracy: 0.9594\n",
      "Epoch 57/200\n",
      "320/320 [==============================] - 1s 3ms/step - loss: 0.0979 - accuracy: 0.9609\n",
      "Epoch 58/200\n",
      "320/320 [==============================] - 1s 2ms/step - loss: 0.0959 - accuracy: 0.9618\n",
      "Epoch 59/200\n",
      "320/320 [==============================] - 1s 2ms/step - loss: 0.0977 - accuracy: 0.9618\n",
      "Epoch 60/200\n",
      "320/320 [==============================] - 1s 2ms/step - loss: 0.0946 - accuracy: 0.9626\n",
      "Epoch 61/200\n",
      "320/320 [==============================] - 1s 2ms/step - loss: 0.0967 - accuracy: 0.9607\n",
      "Epoch 62/200\n",
      "320/320 [==============================] - 1s 2ms/step - loss: 0.0917 - accuracy: 0.9632\n",
      "Epoch 63/200\n",
      "320/320 [==============================] - 1s 2ms/step - loss: 0.0921 - accuracy: 0.9647\n",
      "Epoch 64/200\n",
      "320/320 [==============================] - 1s 2ms/step - loss: 0.0990 - accuracy: 0.9613\n",
      "Epoch 65/200\n",
      "320/320 [==============================] - 1s 2ms/step - loss: 0.0903 - accuracy: 0.9632\n",
      "Epoch 66/200\n",
      "320/320 [==============================] - 1s 2ms/step - loss: 0.0906 - accuracy: 0.9636\n",
      "Epoch 67/200\n",
      "320/320 [==============================] - 1s 2ms/step - loss: 0.0960 - accuracy: 0.9618\n",
      "Epoch 68/200\n",
      "320/320 [==============================] - 1s 2ms/step - loss: 0.0899 - accuracy: 0.9638\n",
      "Epoch 69/200\n",
      "320/320 [==============================] - 1s 3ms/step - loss: 0.0877 - accuracy: 0.9651\n",
      "Epoch 70/200\n",
      "320/320 [==============================] - 1s 3ms/step - loss: 0.0889 - accuracy: 0.9632\n",
      "Epoch 71/200\n",
      "320/320 [==============================] - 1s 3ms/step - loss: 0.0847 - accuracy: 0.9664\n",
      "Epoch 72/200\n",
      "320/320 [==============================] - 1s 3ms/step - loss: 0.0844 - accuracy: 0.9660\n",
      "Epoch 73/200\n",
      "320/320 [==============================] - 1s 3ms/step - loss: 0.0847 - accuracy: 0.9641\n",
      "Epoch 74/200\n",
      "320/320 [==============================] - 1s 3ms/step - loss: 0.0831 - accuracy: 0.9689\n",
      "Epoch 75/200\n",
      "320/320 [==============================] - 1s 3ms/step - loss: 0.0838 - accuracy: 0.9666\n",
      "Epoch 76/200\n",
      "320/320 [==============================] - 1s 3ms/step - loss: 0.0815 - accuracy: 0.9681\n",
      "Epoch 77/200\n",
      "320/320 [==============================] - 1s 3ms/step - loss: 0.0821 - accuracy: 0.9676\n",
      "Epoch 78/200\n",
      "320/320 [==============================] - 1s 3ms/step - loss: 0.0820 - accuracy: 0.9688\n",
      "Epoch 79/200\n",
      "320/320 [==============================] - 1s 3ms/step - loss: 0.0803 - accuracy: 0.9681\n",
      "Epoch 80/200\n",
      "320/320 [==============================] - 1s 3ms/step - loss: 0.0791 - accuracy: 0.9679\n",
      "Epoch 81/200\n",
      "320/320 [==============================] - 1s 2ms/step - loss: 0.0791 - accuracy: 0.9699\n",
      "Epoch 82/200\n",
      "320/320 [==============================] - 1s 2ms/step - loss: 0.0789 - accuracy: 0.9685\n",
      "Epoch 83/200\n",
      "320/320 [==============================] - 1s 2ms/step - loss: 0.0749 - accuracy: 0.9713\n",
      "Epoch 84/200\n",
      "320/320 [==============================] - 1s 2ms/step - loss: 0.0744 - accuracy: 0.9701\n",
      "Epoch 85/200\n",
      "320/320 [==============================] - 1s 2ms/step - loss: 0.0740 - accuracy: 0.9704\n",
      "Epoch 86/200\n",
      "320/320 [==============================] - 1s 2ms/step - loss: 0.0748 - accuracy: 0.9704\n",
      "Epoch 87/200\n",
      "320/320 [==============================] - 1s 2ms/step - loss: 0.0743 - accuracy: 0.9707\n",
      "Epoch 88/200\n",
      "320/320 [==============================] - 1s 2ms/step - loss: 0.0717 - accuracy: 0.9716\n",
      "Epoch 89/200\n",
      "320/320 [==============================] - 1s 3ms/step - loss: 0.0710 - accuracy: 0.9731\n",
      "Epoch 90/200\n",
      "320/320 [==============================] - 1s 3ms/step - loss: 0.0710 - accuracy: 0.9717\n",
      "Epoch 91/200\n",
      "320/320 [==============================] - 1s 3ms/step - loss: 0.0739 - accuracy: 0.9723\n",
      "Epoch 92/200\n",
      "320/320 [==============================] - 1s 3ms/step - loss: 0.0684 - accuracy: 0.9727\n",
      "Epoch 93/200\n",
      "320/320 [==============================] - 1s 3ms/step - loss: 0.0713 - accuracy: 0.9719\n",
      "Epoch 94/200\n",
      "320/320 [==============================] - 1s 3ms/step - loss: 0.0756 - accuracy: 0.9684\n",
      "Epoch 95/200\n",
      "320/320 [==============================] - 1s 3ms/step - loss: 0.0652 - accuracy: 0.9738\n",
      "Epoch 96/200\n",
      "320/320 [==============================] - 1s 3ms/step - loss: 0.0667 - accuracy: 0.9744\n",
      "Epoch 97/200\n",
      "320/320 [==============================] - 1s 3ms/step - loss: 0.0683 - accuracy: 0.9725\n",
      "Epoch 98/200\n",
      "320/320 [==============================] - 1s 3ms/step - loss: 0.0661 - accuracy: 0.9740\n",
      "Epoch 99/200\n",
      "320/320 [==============================] - 1s 3ms/step - loss: 0.0637 - accuracy: 0.9755\n",
      "Epoch 100/200\n",
      "320/320 [==============================] - 1s 3ms/step - loss: 0.0654 - accuracy: 0.9742\n",
      "Epoch 101/200\n",
      "320/320 [==============================] - 1s 3ms/step - loss: 0.0624 - accuracy: 0.9767\n",
      "Epoch 102/200\n",
      "320/320 [==============================] - 1s 3ms/step - loss: 0.0645 - accuracy: 0.9741\n",
      "Epoch 103/200\n",
      "320/320 [==============================] - 1s 3ms/step - loss: 0.0645 - accuracy: 0.9738\n",
      "Epoch 104/200\n",
      "320/320 [==============================] - 1s 3ms/step - loss: 0.0598 - accuracy: 0.9756\n",
      "Epoch 105/200\n",
      "320/320 [==============================] - 1s 3ms/step - loss: 0.0593 - accuracy: 0.9776\n",
      "Epoch 106/200\n",
      "320/320 [==============================] - 1s 3ms/step - loss: 0.0628 - accuracy: 0.9755\n",
      "Epoch 107/200\n",
      "320/320 [==============================] - 1s 3ms/step - loss: 0.0657 - accuracy: 0.9738\n",
      "Epoch 108/200\n",
      "320/320 [==============================] - 1s 3ms/step - loss: 0.0622 - accuracy: 0.9744\n",
      "Epoch 109/200\n",
      "320/320 [==============================] - 1s 3ms/step - loss: 0.0566 - accuracy: 0.9793\n",
      "Epoch 110/200\n",
      "320/320 [==============================] - 1s 3ms/step - loss: 0.0610 - accuracy: 0.9762\n",
      "Epoch 111/200\n",
      "320/320 [==============================] - 1s 3ms/step - loss: 0.0571 - accuracy: 0.9785\n",
      "Epoch 112/200\n",
      "320/320 [==============================] - 1s 3ms/step - loss: 0.0534 - accuracy: 0.9796\n",
      "Epoch 113/200\n",
      "320/320 [==============================] - 1s 3ms/step - loss: 0.0562 - accuracy: 0.9777\n",
      "Epoch 114/200\n",
      "320/320 [==============================] - 1s 3ms/step - loss: 0.0563 - accuracy: 0.9784\n",
      "Epoch 115/200\n",
      "320/320 [==============================] - 1s 3ms/step - loss: 0.0575 - accuracy: 0.9765\n",
      "Epoch 116/200\n",
      "320/320 [==============================] - 1s 3ms/step - loss: 0.0543 - accuracy: 0.9788\n",
      "Epoch 117/200\n",
      "320/320 [==============================] - 1s 3ms/step - loss: 0.0522 - accuracy: 0.9799\n",
      "Epoch 118/200\n",
      "320/320 [==============================] - 1s 3ms/step - loss: 0.0527 - accuracy: 0.9785\n",
      "Epoch 119/200\n",
      "320/320 [==============================] - 1s 3ms/step - loss: 0.0515 - accuracy: 0.9800\n",
      "Epoch 120/200\n",
      "320/320 [==============================] - 1s 3ms/step - loss: 0.0575 - accuracy: 0.9781\n",
      "Epoch 121/200\n",
      "320/320 [==============================] - 1s 3ms/step - loss: 0.0559 - accuracy: 0.9790\n",
      "Epoch 122/200\n",
      "320/320 [==============================] - 1s 3ms/step - loss: 0.0525 - accuracy: 0.9799\n",
      "Epoch 123/200\n",
      "320/320 [==============================] - 1s 3ms/step - loss: 0.0504 - accuracy: 0.9806\n",
      "Epoch 124/200\n",
      "320/320 [==============================] - 1s 3ms/step - loss: 0.0479 - accuracy: 0.9835\n",
      "Epoch 125/200\n",
      "320/320 [==============================] - 1s 3ms/step - loss: 0.0464 - accuracy: 0.9828\n",
      "Epoch 126/200\n",
      "320/320 [==============================] - 1s 3ms/step - loss: 0.0477 - accuracy: 0.9822\n",
      "Epoch 127/200\n",
      "320/320 [==============================] - 1s 3ms/step - loss: 0.0556 - accuracy: 0.9797\n",
      "Epoch 128/200\n",
      "320/320 [==============================] - 1s 3ms/step - loss: 0.0510 - accuracy: 0.9808\n",
      "Epoch 129/200\n",
      "320/320 [==============================] - 1s 3ms/step - loss: 0.0451 - accuracy: 0.9841\n",
      "Epoch 130/200\n",
      "320/320 [==============================] - 1s 3ms/step - loss: 0.0517 - accuracy: 0.9792\n",
      "Epoch 131/200\n",
      "320/320 [==============================] - 1s 3ms/step - loss: 0.0540 - accuracy: 0.9803\n",
      "Epoch 132/200\n",
      "320/320 [==============================] - 1s 4ms/step - loss: 0.0429 - accuracy: 0.9854\n",
      "Epoch 133/200\n",
      "320/320 [==============================] - 1s 3ms/step - loss: 0.0534 - accuracy: 0.9789\n",
      "Epoch 134/200\n",
      "320/320 [==============================] - 1s 3ms/step - loss: 0.0445 - accuracy: 0.9834\n",
      "Epoch 135/200\n",
      "320/320 [==============================] - 1s 3ms/step - loss: 0.0444 - accuracy: 0.9846\n",
      "Epoch 136/200\n",
      "320/320 [==============================] - 1s 3ms/step - loss: 0.0488 - accuracy: 0.9807\n",
      "Epoch 137/200\n",
      "320/320 [==============================] - 1s 3ms/step - loss: 0.0411 - accuracy: 0.9847\n",
      "Epoch 138/200\n",
      "320/320 [==============================] - 1s 3ms/step - loss: 0.0429 - accuracy: 0.9832\n",
      "Epoch 139/200\n",
      "320/320 [==============================] - 1s 3ms/step - loss: 0.0439 - accuracy: 0.9841\n",
      "Epoch 140/200\n",
      "320/320 [==============================] - 1s 3ms/step - loss: 0.0425 - accuracy: 0.9843\n",
      "Epoch 141/200\n",
      "320/320 [==============================] - 1s 3ms/step - loss: 0.0487 - accuracy: 0.9819\n",
      "Epoch 142/200\n",
      "320/320 [==============================] - 1s 3ms/step - loss: 0.0417 - accuracy: 0.9833\n",
      "Epoch 143/200\n",
      "320/320 [==============================] - 1s 3ms/step - loss: 0.0404 - accuracy: 0.9853\n",
      "Epoch 144/200\n",
      "320/320 [==============================] - 1s 3ms/step - loss: 0.0403 - accuracy: 0.9853\n",
      "Epoch 145/200\n",
      "320/320 [==============================] - 1s 3ms/step - loss: 0.0408 - accuracy: 0.9853\n",
      "Epoch 146/200\n",
      "320/320 [==============================] - 1s 3ms/step - loss: 0.0445 - accuracy: 0.9819\n",
      "Epoch 147/200\n",
      "320/320 [==============================] - 1s 3ms/step - loss: 0.0416 - accuracy: 0.9842\n",
      "Epoch 148/200\n",
      "320/320 [==============================] - 1s 3ms/step - loss: 0.0401 - accuracy: 0.9853\n",
      "Epoch 149/200\n",
      "320/320 [==============================] - 1s 3ms/step - loss: 0.0396 - accuracy: 0.9849\n",
      "Epoch 150/200\n",
      "320/320 [==============================] - 1s 3ms/step - loss: 0.0368 - accuracy: 0.9865\n",
      "Epoch 151/200\n",
      "320/320 [==============================] - 1s 3ms/step - loss: 0.0364 - accuracy: 0.9861\n",
      "Epoch 152/200\n",
      "320/320 [==============================] - 1s 3ms/step - loss: 0.0418 - accuracy: 0.9841\n",
      "Epoch 153/200\n",
      "320/320 [==============================] - 1s 3ms/step - loss: 0.0428 - accuracy: 0.9842\n",
      "Epoch 154/200\n",
      "320/320 [==============================] - 1s 3ms/step - loss: 0.0367 - accuracy: 0.9868\n",
      "Epoch 155/200\n",
      "320/320 [==============================] - 1s 3ms/step - loss: 0.0348 - accuracy: 0.9877\n",
      "Epoch 156/200\n",
      "320/320 [==============================] - 1s 3ms/step - loss: 0.0469 - accuracy: 0.9824\n",
      "Epoch 157/200\n",
      "320/320 [==============================] - 1s 3ms/step - loss: 0.0366 - accuracy: 0.9868\n",
      "Epoch 158/200\n",
      "320/320 [==============================] - 1s 3ms/step - loss: 0.0345 - accuracy: 0.9876\n",
      "Epoch 159/200\n",
      "320/320 [==============================] - 1s 3ms/step - loss: 0.0329 - accuracy: 0.9892\n",
      "Epoch 160/200\n"
     ]
    },
    {
     "name": "stdout",
     "output_type": "stream",
     "text": [
      "320/320 [==============================] - 1s 3ms/step - loss: 0.0325 - accuracy: 0.9889\n",
      "Epoch 161/200\n",
      "320/320 [==============================] - 1s 3ms/step - loss: 0.0451 - accuracy: 0.9835\n",
      "Epoch 162/200\n",
      "320/320 [==============================] - 1s 3ms/step - loss: 0.0393 - accuracy: 0.9860\n",
      "Epoch 163/200\n",
      "320/320 [==============================] - 1s 3ms/step - loss: 0.0311 - accuracy: 0.9888\n",
      "Epoch 164/200\n",
      "320/320 [==============================] - 1s 3ms/step - loss: 0.0321 - accuracy: 0.9889\n",
      "Epoch 165/200\n",
      "320/320 [==============================] - 1s 3ms/step - loss: 0.0323 - accuracy: 0.9887\n",
      "Epoch 166/200\n",
      "320/320 [==============================] - 1s 3ms/step - loss: 0.0399 - accuracy: 0.9851\n",
      "Epoch 167/200\n",
      "320/320 [==============================] - 1s 3ms/step - loss: 0.0338 - accuracy: 0.9875\n",
      "Epoch 168/200\n",
      "320/320 [==============================] - 1s 3ms/step - loss: 0.0327 - accuracy: 0.9890\n",
      "Epoch 169/200\n",
      "320/320 [==============================] - 1s 3ms/step - loss: 0.0294 - accuracy: 0.9891\n",
      "Epoch 170/200\n",
      "320/320 [==============================] - 1s 3ms/step - loss: 0.0331 - accuracy: 0.9883\n",
      "Epoch 171/200\n",
      "320/320 [==============================] - 1s 3ms/step - loss: 0.0305 - accuracy: 0.9896\n",
      "Epoch 172/200\n",
      "320/320 [==============================] - 1s 3ms/step - loss: 0.0427 - accuracy: 0.9856\n",
      "Epoch 173/200\n",
      "320/320 [==============================] - 1s 3ms/step - loss: 0.0293 - accuracy: 0.9908\n",
      "Epoch 174/200\n",
      "320/320 [==============================] - 1s 3ms/step - loss: 0.0303 - accuracy: 0.9895\n",
      "Epoch 175/200\n",
      "320/320 [==============================] - 1s 3ms/step - loss: 0.0277 - accuracy: 0.9903\n",
      "Epoch 176/200\n",
      "320/320 [==============================] - 1s 3ms/step - loss: 0.0521 - accuracy: 0.9809\n",
      "Epoch 177/200\n",
      "320/320 [==============================] - 1s 3ms/step - loss: 0.0294 - accuracy: 0.9899\n",
      "Epoch 178/200\n",
      "320/320 [==============================] - 1s 3ms/step - loss: 0.0254 - accuracy: 0.9922\n",
      "Epoch 179/200\n",
      "320/320 [==============================] - 1s 3ms/step - loss: 0.0247 - accuracy: 0.9928\n",
      "Epoch 180/200\n",
      "320/320 [==============================] - 1s 3ms/step - loss: 0.0280 - accuracy: 0.9906\n",
      "Epoch 181/200\n",
      "320/320 [==============================] - 1s 3ms/step - loss: 0.0372 - accuracy: 0.9877\n",
      "Epoch 182/200\n",
      "320/320 [==============================] - 1s 3ms/step - loss: 0.0249 - accuracy: 0.9924\n",
      "Epoch 183/200\n",
      "320/320 [==============================] - 1s 3ms/step - loss: 0.0257 - accuracy: 0.9914\n",
      "Epoch 184/200\n",
      "320/320 [==============================] - 1s 3ms/step - loss: 0.0264 - accuracy: 0.9914\n",
      "Epoch 185/200\n",
      "320/320 [==============================] - 1s 3ms/step - loss: 0.0327 - accuracy: 0.9879\n",
      "Epoch 186/200\n",
      "320/320 [==============================] - 1s 3ms/step - loss: 0.0358 - accuracy: 0.9872\n",
      "Epoch 187/200\n",
      "320/320 [==============================] - 1s 3ms/step - loss: 0.0282 - accuracy: 0.9901\n",
      "Epoch 188/200\n",
      "320/320 [==============================] - 1s 3ms/step - loss: 0.0234 - accuracy: 0.9921\n",
      "Epoch 189/200\n",
      "320/320 [==============================] - 1s 3ms/step - loss: 0.0235 - accuracy: 0.9924\n",
      "Epoch 190/200\n",
      "320/320 [==============================] - 1s 3ms/step - loss: 0.0405 - accuracy: 0.9864\n",
      "Epoch 191/200\n",
      "320/320 [==============================] - 1s 3ms/step - loss: 0.0315 - accuracy: 0.9881\n",
      "Epoch 192/200\n",
      "320/320 [==============================] - 1s 3ms/step - loss: 0.0223 - accuracy: 0.9931\n",
      "Epoch 193/200\n",
      "320/320 [==============================] - 1s 3ms/step - loss: 0.0217 - accuracy: 0.9923\n",
      "Epoch 194/200\n",
      "320/320 [==============================] - 1s 3ms/step - loss: 0.0224 - accuracy: 0.9932\n",
      "Epoch 195/200\n",
      "320/320 [==============================] - 1s 3ms/step - loss: 0.0241 - accuracy: 0.9928\n",
      "Epoch 196/200\n",
      "320/320 [==============================] - 1s 3ms/step - loss: 0.0373 - accuracy: 0.9878\n",
      "Epoch 197/200\n",
      "320/320 [==============================] - 1s 3ms/step - loss: 0.0317 - accuracy: 0.9900\n",
      "Epoch 198/200\n",
      "320/320 [==============================] - 1s 3ms/step - loss: 0.0261 - accuracy: 0.9905\n",
      "Epoch 199/200\n",
      "320/320 [==============================] - 1s 3ms/step - loss: 0.0258 - accuracy: 0.9910\n",
      "Epoch 200/200\n",
      "320/320 [==============================] - 1s 3ms/step - loss: 0.0234 - accuracy: 0.9928\n"
     ]
    },
    {
     "data": {
      "text/plain": [
       "<keras.callbacks.History at 0x22df4e0f6a0>"
      ]
     },
     "execution_count": 45,
     "metadata": {},
     "output_type": "execute_result"
    }
   ],
   "source": [
    "CNN_model.fit(x_train, y_train, batch_size = 32, epochs = 200)"
   ]
  },
  {
   "cell_type": "code",
   "execution_count": 46,
   "metadata": {},
   "outputs": [],
   "source": [
    "loss, acc_cnn = CNN_model.evaluate(x_train, y_train, verbose = 0)"
   ]
  },
  {
   "cell_type": "code",
   "execution_count": 47,
   "metadata": {},
   "outputs": [
    {
     "name": "stdout",
     "output_type": "stream",
     "text": [
      "0.992850124835968\n"
     ]
    }
   ],
   "source": [
    "print(acc_cnn)"
   ]
  },
  {
   "cell_type": "code",
   "execution_count": 48,
   "metadata": {},
   "outputs": [
    {
     "name": "stdout",
     "output_type": "stream",
     "text": [
      "57/57 [==============================] - 0s 2ms/step\n"
     ]
    }
   ],
   "source": [
    "y_pred = CNN_model.predict(x_test)\n",
    "y_pred[y_pred <= 0.5] = 0\n",
    "y_pred[y_pred > 0.5] = 1"
   ]
  },
  {
   "cell_type": "markdown",
   "metadata": {},
   "source": [
    "ACCURACY COMPARISON OF ALL THE MODELS"
   ]
  },
  {
   "cell_type": "code",
   "execution_count": 49,
   "metadata": {},
   "outputs": [],
   "source": [
    "scores = [acc_lr * 100,\n",
    "          acc_knn * 100,\n",
    "          acc_svm * 100,\n",
    "          acc_nb * 100,\n",
    "          acc_dt * 100,\n",
    "          acc_rf * 100,\n",
    "          acc_cnn * 100]"
   ]
  },
  {
   "cell_type": "code",
   "execution_count": 50,
   "metadata": {},
   "outputs": [],
   "source": [
    "names = [\"Logistic Regression\",\n",
    "        \"K-Nearest Neighbors\",\n",
    "        \"Support Vector Machine\",\n",
    "        \"Naive Bayes\",\n",
    "        \"Decision Tree\",\n",
    "        \"Random Forest\",\n",
    "        \"Convolutional Neural Network\"]"
   ]
  },
  {
   "cell_type": "code",
   "execution_count": 51,
   "metadata": {},
   "outputs": [],
   "source": [
    "df = pd.DataFrame()\n",
    "df['Algorithm Name'] = names\n",
    "df['Accuracy Score (%)'] = scores\n",
    "df = df.sort_values('Accuracy Score (%)', ascending = False)"
   ]
  },
  {
   "cell_type": "code",
   "execution_count": 52,
   "metadata": {
    "scrolled": true
   },
   "outputs": [
    {
     "data": {
      "text/html": [
       "<div>\n",
       "<style scoped>\n",
       "    .dataframe tbody tr th:only-of-type {\n",
       "        vertical-align: middle;\n",
       "    }\n",
       "\n",
       "    .dataframe tbody tr th {\n",
       "        vertical-align: top;\n",
       "    }\n",
       "\n",
       "    .dataframe thead th {\n",
       "        text-align: right;\n",
       "    }\n",
       "</style>\n",
       "<table border=\"1\" class=\"dataframe\">\n",
       "  <thead>\n",
       "    <tr style=\"text-align: right;\">\n",
       "      <th></th>\n",
       "      <th>Algorithm Name</th>\n",
       "      <th>Accuracy Score (%)</th>\n",
       "    </tr>\n",
       "  </thead>\n",
       "  <tbody>\n",
       "    <tr>\n",
       "      <th>6</th>\n",
       "      <td>Convolutional Neural Network</td>\n",
       "      <td>99.285012</td>\n",
       "    </tr>\n",
       "    <tr>\n",
       "      <th>5</th>\n",
       "      <td>Random Forest</td>\n",
       "      <td>97.058824</td>\n",
       "    </tr>\n",
       "    <tr>\n",
       "      <th>4</th>\n",
       "      <td>Decision Tree</td>\n",
       "      <td>96.725860</td>\n",
       "    </tr>\n",
       "    <tr>\n",
       "      <th>1</th>\n",
       "      <td>K-Nearest Neighbors</td>\n",
       "      <td>86.570477</td>\n",
       "    </tr>\n",
       "    <tr>\n",
       "      <th>3</th>\n",
       "      <td>Naive Bayes</td>\n",
       "      <td>84.961154</td>\n",
       "    </tr>\n",
       "    <tr>\n",
       "      <th>0</th>\n",
       "      <td>Logistic Regression</td>\n",
       "      <td>84.850166</td>\n",
       "    </tr>\n",
       "    <tr>\n",
       "      <th>2</th>\n",
       "      <td>Support Vector Machine</td>\n",
       "      <td>84.794673</td>\n",
       "    </tr>\n",
       "  </tbody>\n",
       "</table>\n",
       "</div>"
      ],
      "text/plain": [
       "                 Algorithm Name  Accuracy Score (%)\n",
       "6  Convolutional Neural Network           99.285012\n",
       "5                 Random Forest           97.058824\n",
       "4                 Decision Tree           96.725860\n",
       "1           K-Nearest Neighbors           86.570477\n",
       "3                   Naive Bayes           84.961154\n",
       "0           Logistic Regression           84.850166\n",
       "2        Support Vector Machine           84.794673"
      ]
     },
     "execution_count": 52,
     "metadata": {},
     "output_type": "execute_result"
    }
   ],
   "source": [
    "df"
   ]
  },
  {
   "cell_type": "code",
   "execution_count": 53,
   "metadata": {},
   "outputs": [],
   "source": [
    "import matplotlib.pyplot as plt\n",
    "import seaborn as sns"
   ]
  },
  {
   "cell_type": "code",
   "execution_count": 54,
   "metadata": {
    "scrolled": true
   },
   "outputs": [
    {
     "data": {
      "image/png": "[encoded data removed]",
      "text/plain": [
       "<Figure size 1000x500 with 1 Axes>"
      ]
     },
     "metadata": {},
     "output_type": "display_data"
    }
   ],
   "source": [
    "fig = plt.subplots(figsize = (10, 5))\n",
    "ax = sns.barplot(x = \"Accuracy Score (%)\", y = \"Algorithm Name\", data = df)"
   ]
  },
  {
   "cell_type": "markdown",
   "metadata": {},
   "source": [
    "SAVING THE BEST TRAINED MODEL"
   ]
  },
  {
   "cell_type": "code",
   "execution_count": 55,
   "metadata": {},
   "outputs": [],
   "source": [
    "import os.path"
   ]
  },
  {
   "cell_type": "code",
   "execution_count": 56,
   "metadata": {},
   "outputs": [],
   "source": [
    "if os.path.isfile('../project_model.h5') is False:\n",
    "    CNN_model.save('../project_model.h5')"
   ]
  },
  {
   "cell_type": "code",
   "execution_count": null,
   "metadata": {},
   "outputs": [],
   "source": []
  }
 ],
 "metadata": {
  "kernelspec": {
   "display_name": "Python 3 (ipykernel)",
   "language": "python",
   "name": "python3"
  },
  "language_info": {
   "codemirror_mode": {
    "name": "ipython",
    "version": 3
   },
   "file_extension": ".py",
   "mimetype": "text/x-python",
   "name": "python",
   "nbconvert_exporter": "python",
   "pygments_lexer": "ipython3",
   "version": "3.10.11"
  }
 },
 "nbformat": 4,
 "nbformat_minor": 4
}
